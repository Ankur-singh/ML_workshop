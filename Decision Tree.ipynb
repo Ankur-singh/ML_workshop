{
 "cells": [
  {
   "cell_type": "markdown",
   "metadata": {},
   "source": [
    "# Loan Lending Decision Tree\n",
    "\n",
    "Every year millions and millions of dollar are lend as loans, either to companies or individuals. Since, such a huge amount of money in involved in this bussiness,\"Whether to lend money or not?\" is a million dollar question. There are high chances of mistakes and the penalties for them are even higher.\n",
    "\n",
    "In answering the above million dollar question, a lot of analytical work is to be done. And a bad decision can have a catastrophic effect. To help you out, Machine Learning is at your rescue yet again.\n",
    "\n",
    "Instead of making decision based on your experience to make decision, let the data speak for itself.\n",
    "\n",
    "### Importing libraries"
   ]
  },
  {
   "cell_type": "code",
   "execution_count": 1,
   "metadata": {
    "collapsed": true
   },
   "outputs": [],
   "source": [
    "import pandas as pd \n",
    "import matplotlib.pyplot as plt\n",
    "import seaborn as sns\n",
    "from sklearn import tree\n",
    "from sklearn.model_selection import train_test_split\n",
    "from sklearn.decomposition import PCA\n",
    "%matplotlib notebook"
   ]
  },
  {
   "cell_type": "markdown",
   "metadata": {},
   "source": [
    "### Loading the dataset"
   ]
  },
  {
   "cell_type": "code",
   "execution_count": 2,
   "metadata": {},
   "outputs": [
    {
     "data": {
      "text/html": [
       "<div>\n",
       "<style scoped>\n",
       "    .dataframe tbody tr th:only-of-type {\n",
       "        vertical-align: middle;\n",
       "    }\n",
       "\n",
       "    .dataframe tbody tr th {\n",
       "        vertical-align: top;\n",
       "    }\n",
       "\n",
       "    .dataframe thead th {\n",
       "        text-align: right;\n",
       "    }\n",
       "</style>\n",
       "<table border=\"1\" class=\"dataframe\">\n",
       "  <thead>\n",
       "    <tr style=\"text-align: right;\">\n",
       "      <th></th>\n",
       "      <th>id</th>\n",
       "      <th>member_id</th>\n",
       "      <th>loan_amnt</th>\n",
       "      <th>term</th>\n",
       "      <th>int_rate</th>\n",
       "      <th>installment</th>\n",
       "      <th>sub_grade</th>\n",
       "      <th>home_ownership</th>\n",
       "      <th>verification_status</th>\n",
       "      <th>lend?</th>\n",
       "      <th>...</th>\n",
       "      <th>zip_code</th>\n",
       "      <th>addr_state</th>\n",
       "      <th>dti</th>\n",
       "      <th>revol_bal</th>\n",
       "      <th>out_prncp</th>\n",
       "      <th>total_pymnt</th>\n",
       "      <th>policy_code</th>\n",
       "      <th>application_type</th>\n",
       "      <th>url</th>\n",
       "      <th>purpose</th>\n",
       "    </tr>\n",
       "  </thead>\n",
       "  <tbody>\n",
       "    <tr>\n",
       "      <th>0</th>\n",
       "      <td>486488</td>\n",
       "      <td>620002</td>\n",
       "      <td>20000</td>\n",
       "      <td>36</td>\n",
       "      <td>15.33</td>\n",
       "      <td>696.57</td>\n",
       "      <td>D3</td>\n",
       "      <td>RENT</td>\n",
       "      <td>Not Verified</td>\n",
       "      <td>does not meet the credit policy</td>\n",
       "      <td>...</td>\n",
       "      <td>70</td>\n",
       "      <td>NJ</td>\n",
       "      <td>17.21</td>\n",
       "      <td>38578</td>\n",
       "      <td>0.00</td>\n",
       "      <td>24899.24000</td>\n",
       "      <td>1</td>\n",
       "      <td>INDIVIDUAL</td>\n",
       "      <td>https://www.lendingclub.com/browse/loanDetail....</td>\n",
       "      <td>debt_consolidation</td>\n",
       "    </tr>\n",
       "    <tr>\n",
       "      <th>1</th>\n",
       "      <td>1485864</td>\n",
       "      <td>1744823</td>\n",
       "      <td>10000</td>\n",
       "      <td>36</td>\n",
       "      <td>13.11</td>\n",
       "      <td>337.47</td>\n",
       "      <td>B4</td>\n",
       "      <td>RENT</td>\n",
       "      <td>Verified</td>\n",
       "      <td>will pay</td>\n",
       "      <td>...</td>\n",
       "      <td>641</td>\n",
       "      <td>MO</td>\n",
       "      <td>27.15</td>\n",
       "      <td>12675</td>\n",
       "      <td>0.00</td>\n",
       "      <td>12148.01044</td>\n",
       "      <td>1</td>\n",
       "      <td>INDIVIDUAL</td>\n",
       "      <td>https://www.lendingclub.com/browse/loanDetail....</td>\n",
       "      <td>debt_consolidation</td>\n",
       "    </tr>\n",
       "    <tr>\n",
       "      <th>2</th>\n",
       "      <td>1196973</td>\n",
       "      <td>1437973</td>\n",
       "      <td>20400</td>\n",
       "      <td>36</td>\n",
       "      <td>13.67</td>\n",
       "      <td>693.96</td>\n",
       "      <td>B5</td>\n",
       "      <td>MORTGAGE</td>\n",
       "      <td>Source Verified</td>\n",
       "      <td>will pay</td>\n",
       "      <td>...</td>\n",
       "      <td>369</td>\n",
       "      <td>AL</td>\n",
       "      <td>14.76</td>\n",
       "      <td>9949</td>\n",
       "      <td>0.00</td>\n",
       "      <td>24865.79138</td>\n",
       "      <td>1</td>\n",
       "      <td>INDIVIDUAL</td>\n",
       "      <td>https://www.lendingclub.com/browse/loanDetail....</td>\n",
       "      <td>debt_consolidation</td>\n",
       "    </tr>\n",
       "    <tr>\n",
       "      <th>3</th>\n",
       "      <td>43589986</td>\n",
       "      <td>46616724</td>\n",
       "      <td>6050</td>\n",
       "      <td>36</td>\n",
       "      <td>17.57</td>\n",
       "      <td>217.42</td>\n",
       "      <td>D4</td>\n",
       "      <td>OWN</td>\n",
       "      <td>Verified</td>\n",
       "      <td>will not pay</td>\n",
       "      <td>...</td>\n",
       "      <td>293</td>\n",
       "      <td>SC</td>\n",
       "      <td>29.34</td>\n",
       "      <td>6793</td>\n",
       "      <td>5386.67</td>\n",
       "      <td>1081.19000</td>\n",
       "      <td>1</td>\n",
       "      <td>INDIVIDUAL</td>\n",
       "      <td>https://www.lendingclub.com/browse/loanDetail....</td>\n",
       "      <td>debt_consolidation</td>\n",
       "    </tr>\n",
       "    <tr>\n",
       "      <th>4</th>\n",
       "      <td>44955996</td>\n",
       "      <td>48033748</td>\n",
       "      <td>4000</td>\n",
       "      <td>36</td>\n",
       "      <td>6.68</td>\n",
       "      <td>122.93</td>\n",
       "      <td>A3</td>\n",
       "      <td>RENT</td>\n",
       "      <td>Not Verified</td>\n",
       "      <td>will pay</td>\n",
       "      <td>...</td>\n",
       "      <td>977</td>\n",
       "      <td>OR</td>\n",
       "      <td>13.39</td>\n",
       "      <td>1508</td>\n",
       "      <td>0.00</td>\n",
       "      <td>4181.91000</td>\n",
       "      <td>1</td>\n",
       "      <td>INDIVIDUAL</td>\n",
       "      <td>https://www.lendingclub.com/browse/loanDetail....</td>\n",
       "      <td>debt_consolidation</td>\n",
       "    </tr>\n",
       "  </tbody>\n",
       "</table>\n",
       "<p>5 rows × 21 columns</p>\n",
       "</div>"
      ],
      "text/plain": [
       "         id  member_id  loan_amnt  term  int_rate  installment sub_grade  \\\n",
       "0    486488     620002      20000    36     15.33       696.57        D3   \n",
       "1   1485864    1744823      10000    36     13.11       337.47        B4   \n",
       "2   1196973    1437973      20400    36     13.67       693.96        B5   \n",
       "3  43589986   46616724       6050    36     17.57       217.42        D4   \n",
       "4  44955996   48033748       4000    36      6.68       122.93        A3   \n",
       "\n",
       "  home_ownership verification_status                            lend?  \\\n",
       "0           RENT        Not Verified  does not meet the credit policy   \n",
       "1           RENT            Verified                         will pay   \n",
       "2       MORTGAGE     Source Verified                         will pay   \n",
       "3            OWN            Verified                     will not pay   \n",
       "4           RENT        Not Verified                         will pay   \n",
       "\n",
       "          ...         zip_code  addr_state    dti  revol_bal  out_prncp  \\\n",
       "0         ...               70          NJ  17.21      38578       0.00   \n",
       "1         ...              641          MO  27.15      12675       0.00   \n",
       "2         ...              369          AL  14.76       9949       0.00   \n",
       "3         ...              293          SC  29.34       6793    5386.67   \n",
       "4         ...              977          OR  13.39       1508       0.00   \n",
       "\n",
       "   total_pymnt  policy_code  application_type  \\\n",
       "0  24899.24000            1        INDIVIDUAL   \n",
       "1  12148.01044            1        INDIVIDUAL   \n",
       "2  24865.79138            1        INDIVIDUAL   \n",
       "3   1081.19000            1        INDIVIDUAL   \n",
       "4   4181.91000            1        INDIVIDUAL   \n",
       "\n",
       "                                                 url             purpose  \n",
       "0  https://www.lendingclub.com/browse/loanDetail....  debt_consolidation  \n",
       "1  https://www.lendingclub.com/browse/loanDetail....  debt_consolidation  \n",
       "2  https://www.lendingclub.com/browse/loanDetail....  debt_consolidation  \n",
       "3  https://www.lendingclub.com/browse/loanDetail....  debt_consolidation  \n",
       "4  https://www.lendingclub.com/browse/loanDetail....  debt_consolidation  \n",
       "\n",
       "[5 rows x 21 columns]"
      ]
     },
     "execution_count": 2,
     "metadata": {},
     "output_type": "execute_result"
    }
   ],
   "source": [
    "data = pd.read_csv('Datasets/PreProcessedHalf.csv')\n",
    "data = data.drop(data.columns[[0,1]], axis=1)\n",
    "data.head()"
   ]
  },
  {
   "cell_type": "code",
   "execution_count": 3,
   "metadata": {},
   "outputs": [
    {
     "data": {
      "text/plain": [
       "(67830, 21)"
      ]
     },
     "execution_count": 3,
     "metadata": {},
     "output_type": "execute_result"
    }
   ],
   "source": [
    "data.shape"
   ]
  },
  {
   "cell_type": "code",
   "execution_count": 4,
   "metadata": {},
   "outputs": [
    {
     "data": {
      "text/plain": [
       "Index(['id', 'member_id', 'loan_amnt', 'term', 'int_rate', 'installment',\n",
       "       'sub_grade', 'home_ownership', 'verification_status', 'lend?',\n",
       "       'pymnt_plan', 'zip_code', 'addr_state', 'dti', 'revol_bal', 'out_prncp',\n",
       "       'total_pymnt', 'policy_code', 'application_type', 'url', 'purpose'],\n",
       "      dtype='object')"
      ]
     },
     "execution_count": 4,
     "metadata": {},
     "output_type": "execute_result"
    }
   ],
   "source": [
    "data.columns"
   ]
  },
  {
   "cell_type": "markdown",
   "metadata": {},
   "source": [
    "### Preparing feature vectors and labels"
   ]
  },
  {
   "cell_type": "code",
   "execution_count": 5,
   "metadata": {
    "collapsed": true
   },
   "outputs": [],
   "source": [
    "# data_copy = data.copy()\n",
    "X = data.drop(['lend?', 'id', 'member_id', 'url'],axis =1)\n",
    "Y = data['lend?']"
   ]
  },
  {
   "cell_type": "code",
   "execution_count": 6,
   "metadata": {},
   "outputs": [
    {
     "data": {
      "text/plain": [
       "array(['does not meet the credit policy', 'will pay', 'will not pay',\n",
       "       'will delay payment by 2-3 month', 'will delay payment by a month'], dtype=object)"
      ]
     },
     "execution_count": 6,
     "metadata": {},
     "output_type": "execute_result"
    }
   ],
   "source": [
    "Y.unique()"
   ]
  },
  {
   "cell_type": "code",
   "execution_count": 7,
   "metadata": {},
   "outputs": [
    {
     "data": {
      "text/html": [
       "<div>\n",
       "<style scoped>\n",
       "    .dataframe tbody tr th:only-of-type {\n",
       "        vertical-align: middle;\n",
       "    }\n",
       "\n",
       "    .dataframe tbody tr th {\n",
       "        vertical-align: top;\n",
       "    }\n",
       "\n",
       "    .dataframe thead th {\n",
       "        text-align: right;\n",
       "    }\n",
       "</style>\n",
       "<table border=\"1\" class=\"dataframe\">\n",
       "  <thead>\n",
       "    <tr style=\"text-align: right;\">\n",
       "      <th></th>\n",
       "      <th>loan_amnt</th>\n",
       "      <th>term</th>\n",
       "      <th>int_rate</th>\n",
       "      <th>installment</th>\n",
       "      <th>zip_code</th>\n",
       "      <th>dti</th>\n",
       "      <th>revol_bal</th>\n",
       "      <th>out_prncp</th>\n",
       "      <th>total_pymnt</th>\n",
       "      <th>policy_code</th>\n",
       "      <th>...</th>\n",
       "      <th>purpose_home_improvement</th>\n",
       "      <th>purpose_house</th>\n",
       "      <th>purpose_major_purchase</th>\n",
       "      <th>purpose_medical</th>\n",
       "      <th>purpose_moving</th>\n",
       "      <th>purpose_other</th>\n",
       "      <th>purpose_renewable_energy</th>\n",
       "      <th>purpose_small_business</th>\n",
       "      <th>purpose_vacation</th>\n",
       "      <th>purpose_wedding</th>\n",
       "    </tr>\n",
       "  </thead>\n",
       "  <tbody>\n",
       "    <tr>\n",
       "      <th>0</th>\n",
       "      <td>20000</td>\n",
       "      <td>36</td>\n",
       "      <td>15.33</td>\n",
       "      <td>696.57</td>\n",
       "      <td>70</td>\n",
       "      <td>17.21</td>\n",
       "      <td>38578</td>\n",
       "      <td>0.00</td>\n",
       "      <td>24899.24000</td>\n",
       "      <td>1</td>\n",
       "      <td>...</td>\n",
       "      <td>0</td>\n",
       "      <td>0</td>\n",
       "      <td>0</td>\n",
       "      <td>0</td>\n",
       "      <td>0</td>\n",
       "      <td>0</td>\n",
       "      <td>0</td>\n",
       "      <td>0</td>\n",
       "      <td>0</td>\n",
       "      <td>0</td>\n",
       "    </tr>\n",
       "    <tr>\n",
       "      <th>1</th>\n",
       "      <td>10000</td>\n",
       "      <td>36</td>\n",
       "      <td>13.11</td>\n",
       "      <td>337.47</td>\n",
       "      <td>641</td>\n",
       "      <td>27.15</td>\n",
       "      <td>12675</td>\n",
       "      <td>0.00</td>\n",
       "      <td>12148.01044</td>\n",
       "      <td>1</td>\n",
       "      <td>...</td>\n",
       "      <td>0</td>\n",
       "      <td>0</td>\n",
       "      <td>0</td>\n",
       "      <td>0</td>\n",
       "      <td>0</td>\n",
       "      <td>0</td>\n",
       "      <td>0</td>\n",
       "      <td>0</td>\n",
       "      <td>0</td>\n",
       "      <td>0</td>\n",
       "    </tr>\n",
       "    <tr>\n",
       "      <th>2</th>\n",
       "      <td>20400</td>\n",
       "      <td>36</td>\n",
       "      <td>13.67</td>\n",
       "      <td>693.96</td>\n",
       "      <td>369</td>\n",
       "      <td>14.76</td>\n",
       "      <td>9949</td>\n",
       "      <td>0.00</td>\n",
       "      <td>24865.79138</td>\n",
       "      <td>1</td>\n",
       "      <td>...</td>\n",
       "      <td>0</td>\n",
       "      <td>0</td>\n",
       "      <td>0</td>\n",
       "      <td>0</td>\n",
       "      <td>0</td>\n",
       "      <td>0</td>\n",
       "      <td>0</td>\n",
       "      <td>0</td>\n",
       "      <td>0</td>\n",
       "      <td>0</td>\n",
       "    </tr>\n",
       "    <tr>\n",
       "      <th>3</th>\n",
       "      <td>6050</td>\n",
       "      <td>36</td>\n",
       "      <td>17.57</td>\n",
       "      <td>217.42</td>\n",
       "      <td>293</td>\n",
       "      <td>29.34</td>\n",
       "      <td>6793</td>\n",
       "      <td>5386.67</td>\n",
       "      <td>1081.19000</td>\n",
       "      <td>1</td>\n",
       "      <td>...</td>\n",
       "      <td>0</td>\n",
       "      <td>0</td>\n",
       "      <td>0</td>\n",
       "      <td>0</td>\n",
       "      <td>0</td>\n",
       "      <td>0</td>\n",
       "      <td>0</td>\n",
       "      <td>0</td>\n",
       "      <td>0</td>\n",
       "      <td>0</td>\n",
       "    </tr>\n",
       "    <tr>\n",
       "      <th>4</th>\n",
       "      <td>4000</td>\n",
       "      <td>36</td>\n",
       "      <td>6.68</td>\n",
       "      <td>122.93</td>\n",
       "      <td>977</td>\n",
       "      <td>13.39</td>\n",
       "      <td>1508</td>\n",
       "      <td>0.00</td>\n",
       "      <td>4181.91000</td>\n",
       "      <td>1</td>\n",
       "      <td>...</td>\n",
       "      <td>0</td>\n",
       "      <td>0</td>\n",
       "      <td>0</td>\n",
       "      <td>0</td>\n",
       "      <td>0</td>\n",
       "      <td>0</td>\n",
       "      <td>0</td>\n",
       "      <td>0</td>\n",
       "      <td>0</td>\n",
       "      <td>0</td>\n",
       "    </tr>\n",
       "  </tbody>\n",
       "</table>\n",
       "<p>5 rows × 114 columns</p>\n",
       "</div>"
      ],
      "text/plain": [
       "   loan_amnt  term  int_rate  installment  zip_code    dti  revol_bal  \\\n",
       "0      20000    36     15.33       696.57        70  17.21      38578   \n",
       "1      10000    36     13.11       337.47       641  27.15      12675   \n",
       "2      20400    36     13.67       693.96       369  14.76       9949   \n",
       "3       6050    36     17.57       217.42       293  29.34       6793   \n",
       "4       4000    36      6.68       122.93       977  13.39       1508   \n",
       "\n",
       "   out_prncp  total_pymnt  policy_code       ...         \\\n",
       "0       0.00  24899.24000            1       ...          \n",
       "1       0.00  12148.01044            1       ...          \n",
       "2       0.00  24865.79138            1       ...          \n",
       "3    5386.67   1081.19000            1       ...          \n",
       "4       0.00   4181.91000            1       ...          \n",
       "\n",
       "   purpose_home_improvement  purpose_house  purpose_major_purchase  \\\n",
       "0                         0              0                       0   \n",
       "1                         0              0                       0   \n",
       "2                         0              0                       0   \n",
       "3                         0              0                       0   \n",
       "4                         0              0                       0   \n",
       "\n",
       "   purpose_medical  purpose_moving  purpose_other  purpose_renewable_energy  \\\n",
       "0                0               0              0                         0   \n",
       "1                0               0              0                         0   \n",
       "2                0               0              0                         0   \n",
       "3                0               0              0                         0   \n",
       "4                0               0              0                         0   \n",
       "\n",
       "   purpose_small_business  purpose_vacation  purpose_wedding  \n",
       "0                       0                 0                0  \n",
       "1                       0                 0                0  \n",
       "2                       0                 0                0  \n",
       "3                       0                 0                0  \n",
       "4                       0                 0                0  \n",
       "\n",
       "[5 rows x 114 columns]"
      ]
     },
     "execution_count": 7,
     "metadata": {},
     "output_type": "execute_result"
    }
   ],
   "source": [
    "data1=pd.get_dummies(X,drop_first = True)\n",
    "data1.head()"
   ]
  },
  {
   "cell_type": "markdown",
   "metadata": {},
   "source": [
    "### Spliting train and test set"
   ]
  },
  {
   "cell_type": "code",
   "execution_count": 8,
   "metadata": {
    "collapsed": true
   },
   "outputs": [],
   "source": [
    "X_train, X_test, Y_train, Y_test = train_test_split(data1, Y, test_size=0.3, random_state=42)\n",
    "# X2 = PCA(114).fit_transform(X_test)\n",
    "# X2[:,5]"
   ]
  },
  {
   "cell_type": "code",
   "execution_count": 9,
   "metadata": {},
   "outputs": [
    {
     "name": "stdout",
     "output_type": "stream",
     "text": [
      "(20349, 114)\n",
      "(20349,)\n"
     ]
    }
   ],
   "source": [
    "print(X_test.shape)\n",
    "print(Y_test.shape)"
   ]
  },
  {
   "cell_type": "markdown",
   "metadata": {},
   "source": [
    "### Training the machine learning model"
   ]
  },
  {
   "cell_type": "code",
   "execution_count": 22,
   "metadata": {
    "collapsed": true
   },
   "outputs": [],
   "source": [
    "clf = tree.DecisionTreeClassifier(max_depth=3)"
   ]
  },
  {
   "cell_type": "code",
   "execution_count": 23,
   "metadata": {
    "collapsed": true
   },
   "outputs": [],
   "source": [
    "clf= clf.fit(X_train, Y_train)"
   ]
  },
  {
   "cell_type": "code",
   "execution_count": 13,
   "metadata": {
    "collapsed": true
   },
   "outputs": [],
   "source": [
    "import graphviz"
   ]
  },
  {
   "cell_type": "code",
   "execution_count": 14,
   "metadata": {
    "scrolled": true
   },
   "outputs": [
    {
     "data": {
      "text/plain": [
       "'dt.pdf'"
      ]
     },
     "execution_count": 14,
     "metadata": {},
     "output_type": "execute_result"
    }
   ],
   "source": [
    "dot_data = tree.export_graphviz(clf, out_file=None, \n",
    "                         feature_names=data1.columns,  \n",
    "                         class_names=Y.unique(),  \n",
    "                         filled=True, rounded=True,  \n",
    "                         special_characters=True)\n",
    "graph = graphviz.Source(dot_data)  \n",
    "graph.render('dt')"
   ]
  },
  {
   "cell_type": "code",
   "execution_count": 24,
   "metadata": {
    "collapsed": true
   },
   "outputs": [],
   "source": [
    "y_pred = clf.predict(X_test)"
   ]
  },
  {
   "cell_type": "code",
   "execution_count": 25,
   "metadata": {
    "collapsed": true
   },
   "outputs": [],
   "source": [
    "from sklearn.metrics import accuracy_score"
   ]
  },
  {
   "cell_type": "code",
   "execution_count": 26,
   "metadata": {},
   "outputs": [
    {
     "name": "stdout",
     "output_type": "stream",
     "text": [
      "0.97213622291\n"
     ]
    }
   ],
   "source": [
    "print(accuracy_score(Y_test, y_pred))"
   ]
  },
  {
   "cell_type": "code",
   "execution_count": 28,
   "metadata": {},
   "outputs": [
    {
     "data": {
      "text/html": [
       "<div>\n",
       "<style scoped>\n",
       "    .dataframe tbody tr th:only-of-type {\n",
       "        vertical-align: middle;\n",
       "    }\n",
       "\n",
       "    .dataframe tbody tr th {\n",
       "        vertical-align: top;\n",
       "    }\n",
       "\n",
       "    .dataframe thead th {\n",
       "        text-align: right;\n",
       "    }\n",
       "</style>\n",
       "<table border=\"1\" class=\"dataframe\">\n",
       "  <thead>\n",
       "    <tr style=\"text-align: right;\">\n",
       "      <th></th>\n",
       "      <th>id</th>\n",
       "      <th>member_id</th>\n",
       "      <th>loan_amnt</th>\n",
       "      <th>term</th>\n",
       "      <th>int_rate</th>\n",
       "      <th>installment</th>\n",
       "      <th>sub_grade</th>\n",
       "      <th>home_ownership</th>\n",
       "      <th>verification_status</th>\n",
       "      <th>lend?</th>\n",
       "      <th>...</th>\n",
       "      <th>zip_code</th>\n",
       "      <th>addr_state</th>\n",
       "      <th>dti</th>\n",
       "      <th>revol_bal</th>\n",
       "      <th>out_prncp</th>\n",
       "      <th>total_pymnt</th>\n",
       "      <th>policy_code</th>\n",
       "      <th>application_type</th>\n",
       "      <th>url</th>\n",
       "      <th>purpose</th>\n",
       "    </tr>\n",
       "  </thead>\n",
       "  <tbody>\n",
       "    <tr>\n",
       "      <th>0</th>\n",
       "      <td>486488</td>\n",
       "      <td>620002</td>\n",
       "      <td>20000</td>\n",
       "      <td>36</td>\n",
       "      <td>15.33</td>\n",
       "      <td>696.57</td>\n",
       "      <td>D3</td>\n",
       "      <td>RENT</td>\n",
       "      <td>Not Verified</td>\n",
       "      <td>does not meet the credit policy</td>\n",
       "      <td>...</td>\n",
       "      <td>70</td>\n",
       "      <td>NJ</td>\n",
       "      <td>17.21</td>\n",
       "      <td>38578</td>\n",
       "      <td>0.0</td>\n",
       "      <td>24899.24</td>\n",
       "      <td>1</td>\n",
       "      <td>INDIVIDUAL</td>\n",
       "      <td>https://www.lendingclub.com/browse/loanDetail....</td>\n",
       "      <td>debt_consolidation</td>\n",
       "    </tr>\n",
       "  </tbody>\n",
       "</table>\n",
       "<p>1 rows × 21 columns</p>\n",
       "</div>"
      ],
      "text/plain": [
       "       id  member_id  loan_amnt  term  int_rate  installment sub_grade  \\\n",
       "0  486488     620002      20000    36     15.33       696.57        D3   \n",
       "\n",
       "  home_ownership verification_status                            lend?  \\\n",
       "0           RENT        Not Verified  does not meet the credit policy   \n",
       "\n",
       "          ...         zip_code  addr_state    dti  revol_bal  out_prncp  \\\n",
       "0         ...               70          NJ  17.21      38578        0.0   \n",
       "\n",
       "   total_pymnt  policy_code  application_type  \\\n",
       "0     24899.24            1        INDIVIDUAL   \n",
       "\n",
       "                                                 url             purpose  \n",
       "0  https://www.lendingclub.com/browse/loanDetail....  debt_consolidation  \n",
       "\n",
       "[1 rows x 21 columns]"
      ]
     },
     "execution_count": 28,
     "metadata": {},
     "output_type": "execute_result"
    }
   ],
   "source": [
    "data.head(1)"
   ]
  },
  {
   "cell_type": "code",
   "execution_count": null,
   "metadata": {
    "collapsed": true
   },
   "outputs": [],
   "source": []
  }
 ],
 "metadata": {
  "kernelspec": {
   "display_name": "Python 3",
   "language": "python",
   "name": "python3"
  },
  "language_info": {
   "codemirror_mode": {
    "name": "ipython",
    "version": 3
   },
   "file_extension": ".py",
   "mimetype": "text/x-python",
   "name": "python",
   "nbconvert_exporter": "python",
   "pygments_lexer": "ipython3",
   "version": "3.6.1"
  }
 },
 "nbformat": 4,
 "nbformat_minor": 2
}
